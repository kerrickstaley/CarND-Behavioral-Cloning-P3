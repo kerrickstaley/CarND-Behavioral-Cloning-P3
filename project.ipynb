{
 "cells": [
  {
   "cell_type": "code",
   "execution_count": 29,
   "metadata": {},
   "outputs": [],
   "source": [
    "import csv\n",
    "import os\n",
    "from matplotlib import pyplot as plt\n",
    "import cv2\n",
    "import numpy as np\n",
    "import random\n",
    "\n",
    "USE_CV2_IMREAD = True\n",
    "\n",
    "\n",
    "class DataLoader:\n",
    "    \n",
    "    def __init__(\n",
    "            self, data_file='data/driving_log.csv',\n",
    "            batch_size=32):\n",
    "        self.batch_size = batch_size\n",
    "        with open(data_file) as inf:\n",
    "            self.csv_lines = list(csv.reader(inf))\n",
    "            random.shuffle(self.csv_lines)\n",
    "\n",
    "    @staticmethod\n",
    "    def imread(path):\n",
    "        if USE_CV2_IMREAD:\n",
    "            imdata = cv2.imread(path)\n",
    "        else:\n",
    "            imdata = plt.imread(path)\n",
    "            imdata = np.cast(np.round(imdata * 255), np.uint8)\n",
    "        \n",
    "        return imdata\n",
    "\n",
    "    def load_data(self):\n",
    "        raise Exception('bitrotted')\n",
    "        batch_x = []\n",
    "        batch_y = []\n",
    "        for line in self.csv_lines:\n",
    "            forward_img_path = self.fix_img_path(line[0])\n",
    "            imdata = self.imread(forward_img_path)\n",
    "            \n",
    "            batch_x.append(imdata)\n",
    "            batch_y.append(float(line[3]))\n",
    "            \n",
    "            if len(batch_x) == BATCH_SIZE:\n",
    "                yield np.array(batch_x), np.array(batch_y)\n",
    "                batch_x, batch_y = [], []\n",
    "        \n",
    "    def num_batches(self):\n",
    "        return len(self.csv_lines) // BATCH_SIZE\n",
    "        \n",
    "    @staticmethod\n",
    "    def fix_img_path(path):\n",
    "        fname = path.split('/')[-1]\n",
    "        return os.path.join(os.getcwd(), 'data', 'IMG', fname)\n",
    "    \n",
    "    @staticmethod\n",
    "    def all_img_paths(path):\n",
    "        center = fix_img_path(path)\n",
    "        left = 'left'.join(center.rsplit('center', 1))\n",
    "        right = 'right'.join(center.rsplit('right', 1))\n",
    "        \n",
    "        return center, left, right\n",
    "    \n",
    "    def load_all_data(self):\n",
    "        rv_x = []\n",
    "        rv_y = []\n",
    "        for line in self.csv_lines:\n",
    "            paths = map(self.fix_img_path, line[:3])  # center, left, right\n",
    "            offsets = [0, 0.2, -0.2]  # correct\n",
    "            for path, offset in zip(paths, offsets):\n",
    "                imdata = self.imread(path)\n",
    "                angle = float(line[3]) + offset\n",
    "                \n",
    "                rv_x.append(imdata)\n",
    "                rv_y.append(angle)\n",
    "                # also append reversed data\n",
    "                rv_x.append(imdata[:,::-1,:])\n",
    "                rv_y.append(-angle)\n",
    "        \n",
    "        return np.array(rv_x), np.array(rv_y)\n",
    "\n",
    "# def load_data():\n",
    "#     with open('data/driving_log.csv') as inf:\n",
    "#         batch = []\n",
    "#         reader = csv.reader(inf)\n",
    "#         for line in reader:\n",
    "#             forward_img_path = fix_img_path(line[0])\n",
    "#             imdata = imread(forward_img_path) * 255\n",
    "#             batch.append((\n",
    "#                 imdata,\n",
    "#                 float(line[3])))\n",
    "            \n",
    "#             if len(batch) == BATCH_SIZE:\n",
    "#                 yield batch\n",
    "#                 batch = []\n",
    "\n",
    "# forward_cam_data_x = np.array(forward_cam_data_x)\n",
    "# forward_cam_data_y = np.array(forward_cam_data_y)\n",
    "\n",
    "# print('{} samples'.format(len(forward_cam_data_x)))"
   ]
  },
  {
   "cell_type": "code",
   "execution_count": 30,
   "metadata": {
    "collapsed": true
   },
   "outputs": [],
   "source": [
    "BATCH_SIZE = 32\n",
    "\n",
    "data_loader = DataLoader(batch_size=BATCH_SIZE)"
   ]
  },
  {
   "cell_type": "code",
   "execution_count": 31,
   "metadata": {},
   "outputs": [
    {
     "name": "stdout",
     "output_type": "stream",
     "text": [
      "Train on 25953 samples, validate on 6489 samples\n",
      "Epoch 1/3\n",
      "25953/25953 [==============================] - 24s 907us/step - loss: 32.9403 - val_loss: 0.0416\n",
      "Epoch 2/3\n",
      "25953/25953 [==============================] - 23s 870us/step - loss: 0.0441 - val_loss: 0.0416\n",
      "Epoch 3/3\n",
      "25953/25953 [==============================] - 23s 874us/step - loss: 0.0430 - val_loss: 0.0416\n"
     ]
    }
   ],
   "source": [
    "from keras import models, layers\n",
    "\n",
    "EPOCHS = 3\n",
    "USE_GENERATOR_LOADER = False\n",
    "USE_DEEP_MODEL = True\n",
    "\n",
    "\n",
    "model = models.Sequential()\n",
    "model.add(layers.Cropping2D(cropping=((70, 25), (0, 0)), input_shape=(160, 320, 3)))\n",
    "\n",
    "if USE_DEEP_MODEL:\n",
    "    model.add(layers.Lambda(lambda x: (x - 128.0) / 2.0))\n",
    "    model.add(layers.Conv2D(6, (5, 5), activation='relu'))\n",
    "    model.add(layers.MaxPooling2D((2, 2)))\n",
    "    model.add(layers.Conv2D(16, (5, 5), activation='relu'))\n",
    "    model.add(layers.MaxPooling2D((2, 2)))\n",
    "    model.add(layers.Flatten())\n",
    "    model.add(layers.Dense(120, activation='relu'))\n",
    "    model.add(layers.Dropout(0.5))\n",
    "    model.add(layers.Dense(84))\n",
    "    model.add(layers.Dropout(0.5))\n",
    "    model.add(layers.Dense(1))\n",
    "else:\n",
    "    model.add(layers.Flatten())\n",
    "    model.add(layers.Dense(1))\n",
    "\n",
    "model.compile(optimizer='adam', loss='mse')\n",
    "\n",
    "if USE_GENERATOR_LOADER:\n",
    "    model.fit_generator(data_loader.load_data(),\n",
    "                        data_loader.num_batches(),\n",
    "                        epochs=EPOCHS)\n",
    "else:\n",
    "    x, y = data_loader.load_all_data()\n",
    "    model.fit(x, y, validation_split=0.2, epochs=EPOCHS, shuffle=True)\n",
    "\n",
    "model.save('model1.h5')"
   ]
  },
  {
   "cell_type": "code",
   "execution_count": 28,
   "metadata": {
    "collapsed": true
   },
   "outputs": [],
   "source": [
    "model.save('model1.h5')"
   ]
  },
  {
   "cell_type": "code",
   "execution_count": 5,
   "metadata": {
    "collapsed": true
   },
   "outputs": [],
   "source": [
    "x, y = data_loader.load_all_data()"
   ]
  },
  {
   "cell_type": "code",
   "execution_count": 6,
   "metadata": {
    "collapsed": true
   },
   "outputs": [],
   "source": [
    "%matplotlib inline\n",
    "from matplotlib import pyplot as plt\n",
    "\n",
    "#plt.imshow(x[0] / 255)"
   ]
  }
 ],
 "metadata": {
  "kernelspec": {
   "display_name": "Python 3",
   "language": "python",
   "name": "python3"
  },
  "language_info": {
   "codemirror_mode": {
    "name": "ipython",
    "version": 3
   },
   "file_extension": ".py",
   "mimetype": "text/x-python",
   "name": "python",
   "nbconvert_exporter": "python",
   "pygments_lexer": "ipython3",
   "version": "3.6.3"
  }
 },
 "nbformat": 4,
 "nbformat_minor": 2
}
